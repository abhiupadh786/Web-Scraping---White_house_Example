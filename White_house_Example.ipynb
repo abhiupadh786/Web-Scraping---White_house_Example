{
 "cells": [
  {
   "cell_type": "markdown",
   "id": "8b88f9c2",
   "metadata": {},
   "source": [
    "Let's obtain the links from the following website:\n",
    "   https://www.whitehouse.gov/briefing-room/\n",
    "        \n",
    "        "
   ]
  },
  {
   "cell_type": "code",
   "execution_count": 1,
   "id": "288e6867",
   "metadata": {},
   "outputs": [],
   "source": [
    "#One of the things this website consists of is records of presidential briefings and statements."
   ]
  },
  {
   "cell_type": "markdown",
   "id": "d24a268b",
   "metadata": {},
   "source": [
    "# Goal: Extract all of the links on the page that point to the briefings and statements."
   ]
  },
  {
   "cell_type": "code",
   "execution_count": 2,
   "id": "0b9c3031",
   "metadata": {},
   "outputs": [],
   "source": [
    "import requests\n",
    "from bs4 import BeautifulSoup"
   ]
  },
  {
   "cell_type": "code",
   "execution_count": 3,
   "id": "2bf237ca",
   "metadata": {},
   "outputs": [],
   "source": [
    "result = requests.get(\"https://www.whitehouse.gov/briefing-room/\")"
   ]
  },
  {
   "cell_type": "code",
   "execution_count": 4,
   "id": "57031829",
   "metadata": {},
   "outputs": [],
   "source": [
    "src = result.content"
   ]
  },
  {
   "cell_type": "code",
   "execution_count": 5,
   "id": "4eb241f0",
   "metadata": {},
   "outputs": [],
   "source": [
    "soup = BeautifulSoup(src, 'lxml')"
   ]
  },
  {
   "cell_type": "code",
   "execution_count": 6,
   "id": "5c7fdd44",
   "metadata": {},
   "outputs": [],
   "source": [
    "urls = []"
   ]
  },
  {
   "cell_type": "code",
   "execution_count": 17,
   "id": "9386e9b1",
   "metadata": {
    "scrolled": true
   },
   "outputs": [
    {
     "name": "stdout",
     "output_type": "stream",
     "text": [
      "['https://www.whitehouse.gov/briefing-room/speeches-remarks/2022/03/06/remarks-by-vice-president-harris-to-commemorate-the-57th-anniversary-of-bloody-sunday/', 'https://www.whitehouse.gov/briefing-room/statements-releases/2022/03/06/statement-by-president-biden-on-the-anniversary-of-bloody-sunday/', 'https://www.whitehouse.gov/briefing-room/statements-releases/2022/03/05/readout-of-president-biden-meeting-with-national-union-labor-leaders/', 'https://www.whitehouse.gov/briefing-room/statements-releases/2022/03/05/readout-of-president-bidens-call-with-president-zelenskyy-of-ukraine-6/', 'https://www.whitehouse.gov/briefing-room/statements-releases/2022/03/05/statement-by-nsc-spokesperson-emily-horne-on-russian-disinformation-and-efforts-to-undermine-free-press/', 'https://www.whitehouse.gov/briefing-room/press-briefings/2022/03/04/press-briefing-by-press-secretary-jen-psaki-and-chair-of-the-council-of-economic-advisers-cecilia-rouse-march-4-2022/', 'https://www.whitehouse.gov/briefing-room/statements-releases/2022/03/04/readout-of-president-bidens-meeting-with-president-of-finland-sauli-niinisto/', 'https://www.whitehouse.gov/briefing-room/speeches-remarks/2022/03/04/remarks-by-president-biden-on-delivering-on-made-in-america-commitments/', 'https://www.whitehouse.gov/briefing-room/speeches-remarks/2022/03/04/remarks-by-president-biden-and-president-niinisto-of-the-republic-of-finland-before-bilateral-meeting/', 'https://www.whitehouse.gov/briefing-room/statements-releases/2022/03/04/statement-by-deputy-press-secretary-sabrina-singh-on-vice-president-harriss-travel-to-poland-and-romania-2/']\n"
     ]
    }
   ],
   "source": [
    "for h2_tag in soup.find_all(\"h2\"):\n",
    "    try:\n",
    "        a_tag = h2_tag.find('a')\n",
    "        urls.append(a_tag.attrs[\"href\"])\n",
    "    except AttributeError:\n",
    "        continue\n",
    "\n",
    "print(urls)"
   ]
  },
  {
   "cell_type": "code",
   "execution_count": null,
   "id": "18692d63",
   "metadata": {},
   "outputs": [],
   "source": []
  }
 ],
 "metadata": {
  "kernelspec": {
   "display_name": "Python 3",
   "language": "python",
   "name": "python3"
  },
  "language_info": {
   "codemirror_mode": {
    "name": "ipython",
    "version": 3
   },
   "file_extension": ".py",
   "mimetype": "text/x-python",
   "name": "python",
   "nbconvert_exporter": "python",
   "pygments_lexer": "ipython3",
   "version": "3.8.8"
  }
 },
 "nbformat": 4,
 "nbformat_minor": 5
}
